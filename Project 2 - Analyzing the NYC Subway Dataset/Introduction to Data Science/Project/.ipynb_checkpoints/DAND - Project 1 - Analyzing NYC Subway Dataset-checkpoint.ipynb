{
 "cells": [
  {
   "cell_type": "markdown",
   "metadata": {},
   "source": [
    "#DAND\n",
    "##Project 1\n",
    "##Analyzing NYC Subway Dataset\n",
    "####Mahlon Barrault\n",
    "####June 22, 2015"
   ]
  },
  {
   "cell_type": "markdown",
   "metadata": {},
   "source": [
    "###Section 0. References\n",
    "https://github.com/nborwankar/LearnDataScience/tree/master/ - Used iPython notebooks as a style reference for this one\n",
    "https://help.github.com/articles/markdown-basics/ - Provided valuable tips on styling\n",
    "https://discussions.udacity.com/t/one-tail-vs-two-tail-in-mann-whitney-u-test/21401/5\n",
    "https://discussions.udacity.com/t/lesson-3-problem-set-mann-whitney-u-test-one-tail-or-two-tail/23872/2\n",
    "http://www.ats.ucla.edu/stat/mult_pkg/faq/general/tail_tests.htm\n",
    "https://discussions.udacity.com/t/project-1-what-is-dummy-and-non-dummy-variables/23302"
   ]
  },
  {
   "cell_type": "markdown",
   "metadata": {},
   "source": [
    "###Section 1. Statistical Test"
   ]
  },
  {
   "cell_type": "markdown",
   "metadata": {},
   "source": [
    "**1.1 Which statistical test did you use to analyze the NYC subway data? Did you use a one-tail or a two-tail P value? What is the null hypothesis? What is your p-critical value?**"
   ]
  },
  {
   "cell_type": "markdown",
   "metadata": {},
   "source": [
    "A Mann-Whitney U-Test was conducted between the sample where the data indicated it was raining and the sample where the data indicated it was not raining. The null hypothesis was that the two samples were from the same distribution or, more specifically, that rain does not produce statistically significant effects on subway ridership. The null hypothesis can be stated:\n",
    "\n",
    "$$\\overline{ENTRIESn\\_hourly_{rain}} = \\overline{ENTRIESn\\_hourly_{no rain}}$$\n",
    "\n",
    "A two-tail P value was used in this test. A two-tail test is suitable to our null hypothesis beacuse we are making no claims as to the direction of the potential difference in means between our samples. A two-tail test allows up to detect statistical relevance when for all scenarios where the means of the samples are not equal.\n",
    "\n",
    "The P_critical value was 0.05 or 5%.\n",
    "$$P_{critical} < 0.05$$"
   ]
  },
  {
   "cell_type": "markdown",
   "metadata": {},
   "source": [
    "**1.2 Why is this statistical test applicable to the dataset? In particular, consider the assumptions that the test is making about the distribution of ridership in the two samples.**"
   ]
  },
  {
   "cell_type": "markdown",
   "metadata": {},
   "source": [
    "In the Exploritory phase the two samples were graphed and the samples appeared to not be normally distributed. This ruled out using a Welch's t-Test since it assumes a normal distribution. A Mann-Whitney U Test was chosen instead. A Mann-Whitney U Test makes no assumptions about the distribution of the data, so it is an applicable test for this dataset."
   ]
  },
  {
   "cell_type": "markdown",
   "metadata": {},
   "source": [
    "**1.3 What results did you get from this statistical test? These should include the following numerical values: p-values, as well as the means for each of the two samples under test.**"
   ]
  },
  {
   "cell_type": "markdown",
   "metadata": {},
   "source": [
    "The mean of ENTRIESn_hourly from the rain sample was 1105.4463767458733.\n",
    "\n",
    "$$\\overline{ENTRIESn\\_hourly_{rain}} = 1105.4463767458733$$\n",
    "\n",
    "The mean of ENTRIESn_hourly from the no rain sample was 1090.278780151855.\n",
    "\n",
    "$$\\overline{ENTRIESn\\_hourly_{no rain}} = 1090.278780151855$$\n",
    "\n",
    "The Mann-Whitney U Test on these two samples produced a p value of 0.0499998255869794.\n",
    "\n",
    "$$P = 0.0499998255869794$$"
   ]
  },
  {
   "cell_type": "markdown",
   "metadata": {},
   "source": [
    "**1.4 What is the significance and interpretation of these results?**"
   ]
  },
  {
   "cell_type": "markdown",
   "metadata": {},
   "source": [
    "Observing the difference of means between the two samples we may conclude that they are \"close enough\" to accept the null hypothesis. However, the results from the Mann-Whitney U Test give us a P that is less than our P_critical. This indicates that the difference in the means of the two samples, although slight, is statistically relevant. We observing a higher mean in the 'rain' group. This lends evidence that subway ridership may be positively affected by rain."
   ]
  },
  {
   "cell_type": "markdown",
   "metadata": {},
   "source": [
    "###Section 2. Linear Regression"
   ]
  },
  {
   "cell_type": "markdown",
   "metadata": {},
   "source": [
    "**2.1 What approach did you use to compute the coefficients theta and produce prediction for ENTRIESn_hourly in your regression model:**\n",
    "1. OLS using Statsmodels or Scikit Learn\n",
    "2. Gradient descent using Scikit Learn\n",
    "3. Or something different?"
   ]
  },
  {
   "cell_type": "markdown",
   "metadata": {},
   "source": [
    "OLS using Statsmodels was used in this analysis as "
   ]
  },
  {
   "cell_type": "markdown",
   "metadata": {},
   "source": [
    "**2.2 What features (input variables) did you use in your model? Did you use any dummy variables as part of your features?**"
   ]
  },
  {
   "cell_type": "markdown",
   "metadata": {},
   "source": []
  },
  {
   "cell_type": "markdown",
   "metadata": {},
   "source": [
    "**2.3 Why did you select these features in your model? We are looking for specific reasons that lead you to believe that\n",
    "the selected features will contribute to the predictive power of your model.\n",
    "Your reasons might be based on intuition. For example, response for fog might be: “I decided to use fog because I thought that when it is very foggy outside people might decide to use the subway more often.”\n",
    "Your reasons might also be based on data exploration and experimentation, for example: “I used feature X because as soon as I included it in my model, it drastically improved my R2 value.”**"
   ]
  },
  {
   "cell_type": "markdown",
   "metadata": {},
   "source": []
  },
  {
   "cell_type": "markdown",
   "metadata": {},
   "source": [
    "**2.4 What are the parameters (also known as \"coefficients\" or \"weights\") of the non-dummy features in your linear regression model?**"
   ]
  },
  {
   "cell_type": "markdown",
   "metadata": {},
   "source": []
  },
  {
   "cell_type": "markdown",
   "metadata": {},
   "source": [
    "**2.5 What is your model’s R2 (coefficients of determination) value?**"
   ]
  },
  {
   "cell_type": "markdown",
   "metadata": {},
   "source": []
  },
  {
   "cell_type": "markdown",
   "metadata": {},
   "source": [
    "**2.6 What does this R2 value mean for the goodness of fit for your regression model? Do you think this linear model to predict ridership is appropriate for this dataset, given this R2 value?**"
   ]
  },
  {
   "cell_type": "markdown",
   "metadata": {},
   "source": []
  },
  {
   "cell_type": "markdown",
   "metadata": {},
   "source": [
    "###Section 3. Visualization"
   ]
  },
  {
   "cell_type": "markdown",
   "metadata": {},
   "source": [
    "Please include two visualizations that show the relationships between two or more variables in the NYC subway data.\n",
    "Remember to add appropriate titles and axes labels to your plots. Also, please add a short description below each figure commenting on the key insights depicted in the figure."
   ]
  },
  {
   "cell_type": "markdown",
   "metadata": {},
   "source": [
    "**3.1 One visualization should contain two histograms: one of  ENTRIESn_hourly for rainy days and one of ENTRIESn_hourly for non-rainy days.**\n",
    "* You can combine the two histograms in a single plot or you can use two separate plots.\n",
    "* If you decide to use to two separate plots for the two histograms, please ensure that the x-axis limits for both of the plots are identical. It is much easier to compare the two in that case.\n",
    "* For the histograms, you should have intervals representing the volume of ridership (value of ENTRIESn_hourly) on the x-axis and the frequency of occurrence on the y-axis. For example, each interval (along the x-axis), the height of the bar for this interval will represent the number of records (rows in our data) that have ENTRIESn_hourly that falls in this interval.\n",
    "*Remember to increase the number of bins in the histogram (by having larger number of bars). The default bin width is not sufficient to capture the variability in the two samples."
   ]
  },
  {
   "cell_type": "markdown",
   "metadata": {},
   "source": []
  },
  {
   "cell_type": "markdown",
   "metadata": {},
   "source": [
    "**3.2 One visualization can be more freeform. You should feel free to implement something that we discussed in class (e.g., scatter plots, line plots) or attempt to implement something more advanced if you'd like. Some suggestions are:**\n",
    "* Ridership by time-of-day\n",
    "* Ridership by day-of-week"
   ]
  },
  {
   "cell_type": "markdown",
   "metadata": {},
   "source": []
  },
  {
   "cell_type": "markdown",
   "metadata": {},
   "source": [
    "###Section 4. Conclusion"
   ]
  },
  {
   "cell_type": "markdown",
   "metadata": {},
   "source": [
    "*Please address the following questions in detail. Your answers should be 1-2 paragraphs long.*"
   ]
  },
  {
   "cell_type": "markdown",
   "metadata": {},
   "source": [
    "**4.1 From your analysis and interpretation of the data, do more people ride the NYC subway when it is raining or when it is not raining?**"
   ]
  },
  {
   "cell_type": "markdown",
   "metadata": {},
   "source": []
  },
  {
   "cell_type": "markdown",
   "metadata": {},
   "source": [
    "**4.2 What analyses lead you to this conclusion? You should use results from both your statistical tests and your linear regression to support your analysis.**"
   ]
  },
  {
   "cell_type": "markdown",
   "metadata": {},
   "source": []
  },
  {
   "cell_type": "markdown",
   "metadata": {},
   "source": [
    "###Section 5. Reflection"
   ]
  },
  {
   "cell_type": "markdown",
   "metadata": {},
   "source": [
    "*Please address the following questions in detail. Your answers should be 1-2 paragraphs long.*"
   ]
  },
  {
   "cell_type": "markdown",
   "metadata": {},
   "source": [
    "**5.1 Please discuss potential shortcomings of the methods of your analysis, including:**\n",
    "1. Dataset,\n",
    "2. Analysis, such as the linear regression model or statistical test."
   ]
  },
  {
   "cell_type": "markdown",
   "metadata": {},
   "source": []
  },
  {
   "cell_type": "markdown",
   "metadata": {},
   "source": [
    "**5.2 (Optional) Do you have any other insight about the dataset that you would like to share with us?**"
   ]
  },
  {
   "cell_type": "markdown",
   "metadata": {},
   "source": []
  }
 ],
 "metadata": {
  "kernelspec": {
   "display_name": "Python 3",
   "language": "python",
   "name": "python3"
  },
  "language_info": {
   "codemirror_mode": {
    "name": "ipython",
    "version": 3
   },
   "file_extension": ".py",
   "mimetype": "text/x-python",
   "name": "python",
   "nbconvert_exporter": "python",
   "pygments_lexer": "ipython3",
   "version": "3.4.3"
  }
 },
 "nbformat": 4,
 "nbformat_minor": 0
}
